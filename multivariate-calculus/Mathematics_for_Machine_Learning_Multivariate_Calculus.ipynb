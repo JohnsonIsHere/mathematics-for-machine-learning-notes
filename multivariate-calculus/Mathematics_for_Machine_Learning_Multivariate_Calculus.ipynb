{
 "cells": [
  {
   "cell_type": "markdown",
   "id": "0c8dc64a",
   "metadata": {},
   "source": [
    "# A. Introduction to Calculus"
   ]
  },
  {
   "cell_type": "markdown",
   "id": "6fd10a63",
   "metadata": {},
   "source": [
    "## A1. Introduction"
   ]
  },
  {
   "cell_type": "markdown",
   "id": "2acffb34",
   "metadata": {},
   "source": [
    "*  What are functions? \n",
    "   *  A function is a mathematical relationship between inputs and an output. It can be thought of as a machine that takes in one or more variables and produces a single, corresponding result. For example, a function for the temperature of a room might take in the coordinates ($x$,$y$,$z$) and time ($t$) as inputs and return the temperature at that specific point and time.\n",
    "   *  The notation $f(x)$ represents \"f as a function of x\", not \"f multiplied by x.\" This can be a point of confusion due to its seemingly arbitrary nature, but it's a standard convention in mathematical language.\n",
    "* The creative essence of science\n",
    "  * Selecting a function to model real-world data is a core, creative step in science and machine learning. This process involves formulating a **hypothesis**—a candidate function that could represent the relationship you're observing. Without this initial creative step, there would be nothing to test or investigate.\n",
    "* Introduction to Calculus\n",
    "  * **Calculus** is the study of how functions change with respect to their input variables. It provides a set of tools to investigate and manipulate these functions. By understanding calculus, you can analyze the behavior of functions and use them to model complex phenomena in the real world.\n",
    "* Gradients and Derivatives\n",
    "  * A great way to visualize this concept is with a **speed-time graph**.\n",
    "  * ![Speed time graph](images/speed_time_graph.png)\n",
    "\n",
    "    * The **gradient** (or slope) of the graph at any point represents the **rate of change** of speed with respect to time, which is the **acceleration**.\n",
    "    * A positive gradient indicates acceleration, a negative gradient indicates deceleration, and a zero gradient (a flat horizontal line) means constant speed with zero acceleration.\n",
    "    * The gradient at a single point is called the **local gradient** and can be visualized as the slope of a tangent line that touches the curve at that point.\n",
    "  * By finding the local gradient at every point on a continuous function, we can create an entirely new function called its **derivative**. The derivative describes the original function's slope at every point.\n",
    "* Higher-Order Derivatives and Anti-Derivatives\n",
    "  * This process can be repeated. The derivative of the acceleration function is called the **jerk**, which represents the rate of change of acceleration. This concept is useful for describing the \"jerky\" motion of a car as it starts and stops. The jerk is the second derivative of the speed-time function.\n",
    "  * The inverse procedure, finding a function for which our original function is the derivative, is called the **anti-derivative**. For our speed-time example, the anti-derivative would be the **distance-time functio**n, as the rate of change of distance is speed. The anti-derivative is closely related to an integral."
   ]
  },
  {
   "cell_type": "markdown",
   "id": "842c03f1",
   "metadata": {},
   "source": [
    "## A2. Derivatives (Sum Rule and Power Rule)"
   ]
  },
  {
   "cell_type": "markdown",
   "id": "27d01ce8",
   "metadata": {},
   "source": [
    "* Defining the Derivative\n",
    "  * The derivative is the formal mathematical notation for the gradient of a function. For a linear function with a constant gradient, the slope is defined as \"**rise over run**.\"\n",
    "  * For a non-linear function where the gradient changes at every point, we define the derivative at a specific point $x$ by taking the limit of the \"rise over run\" formula. We consider a second point that is an infinitesimally small distance $Δx$ away from the first point. As this distance approaches zero, the line connecting the two points becomes a perfect approximation of the tangent line at point $x$. $$ \\frac{df}{dx} = f'(x) = \\lim_{Δx\\to0} (\\frac{f(x+Δx)-f(x)}{Δx}) $$\n",
    "    * The notation for the derivative can be either $f'(x)$ (read as \"f prime of x\")\n",
    "    * or $\\frac{df}{dx}$ (read as \"df by dx\"). \n",
    "    * The key idea is that we are not dividing by zero, but rather observing the behavior of the expression as $Δx$ gets extremely close to zero.\n",
    "* Fundamental Rules of Differentiation\n",
    "  * This definition, while powerful, can be tedious to apply directly to every function. Fortunately, we can derive and use general rules to simplify the process.\n",
    "  * **The Sum Rule**\n",
    "    * The derivative of a sum of functions is the sum of their individual derivatives. This means you can differentiate each term in a function separately and then add the results together.\n",
    "    * Example: The derivative of $f(x)=3x+2$ is the derivative of $3x$ plus the derivative of $2$.\n",
    "  * **The Power Rule**\n",
    "    * For a function in the form of $f(x) = ax^b$, its derivative is:\n",
    "    $$ f(x) = ax^b $$\n",
    "    $$ f'(x) = abx^{(b-1)} $$\n",
    "    * The rule is: multiply the coefficient by the original power, and then subtract 1 from the power.\n",
    "    * Example: For $f(x) = 5x^2$, the derivative is $f'(x)=(5)(2)x^{2-1}=10x^1=10x$\n",
    "* Special cases\n",
    "  * The Derivative of $\\frac{1}{x}$\n",
    "    * ![Derivative - Discontiunity ](images/derivative_discontinuity.png)\n",
    "    * The Derivative of $\\frac{1}{x}$ has a **discontinuity** at $x=0$, as division by zero is undefined. However, we can find its derivative using the limit definition of differentiation. After working through the algebra, the derivative is found to be: \n",
    "    $$ f(x) = \\frac{1}{x} $$\n",
    "    $$ f'(x) = \\lim_{Δx\\to0} (\\frac{ \\frac{1}{x+Δx} - \\frac{1}{x} }{Δx}) $$\n",
    "    $$ = \\lim_{Δx\\to0} (\\frac{ \\frac{x}{x(x+Δx)} - \\frac{x+Δx}{x(x+Δx)} }{Δx}) $$\n",
    "    $$ = \\lim_{Δx\\to0}  (\\frac{\\frac{-Δx}{x(x+Δx)}}{Δx}) $$\n",
    "    $$ = \\lim_{Δx\\to0} (\\frac{-1}{x^2+xΔx}) $$\n",
    "    $$ = - \\frac{1}{x^2}$$\n",
    "    * This derivative function is always negative, matching our visual observation that the original function's slope is always decreasing. Like the original function, the derivative is also undefined at $x = 0$.\n",
    "  * The Exponential Function ($e^x$)\n",
    "    * ![Derivative - Euler's Nimber ](images/derivative_eulers_number.png)\n",
    "    * The exponential function, $f(x) = e^x$, has  a unique and powerful property: **its derivative is itself**. $$ \\frac{d}{dx} e^x = e^x$$ \n",
    "    * This means the value of the function at any point is equal to its slope at that same point. This self-similarity is incredibly useful in calculus and other areas of mathematics. The constant $e$ (Euler's number), approximately 2.718, is fundamental to this function.\n",
    "      * The \"Designed\" Nature of the Exponential Function $e^x$\n",
    "        * The constant $e$ (Euler's number) is not a random value; it's specifically defined to satisfy a unique and powerful property in calculus. Its entire purpose is to make the derivative of the exponential function $f(x)=e^x$ equal to itself.\n",
    "      * Derivation of the Derivative\n",
    "        * We can see this by using the formal limit definition of the derivative for a general exponential function $f(x)=a^x$.$$ f'(x)=\\lim_{Δx\\to0} \\frac{f(x+Δx)-f(x)}{Δx} = \\lim_{Δx\\to0} \\frac{a^{x+Δx}-a^x}{Δx}$$\n",
    "        * Using the rule of exponents ($a^{x+y} =a^xa^y$), we can factor out $a^x$: $$ f'(x)=\\lim_{Δx\\to0} \\frac{a^x \\cdot a^{Δx}-a^x}{Δx} = a^x \\lim_{Δx\\to0} \\frac{a^{Δx}-1}{Δx} $$.\n",
    "        * For most values of the base $a$, the limit part of this expression will evaluate to some constant value other than 1.\n",
    "        * The number $e$ is precisely the value for the base a that makes this limit exactly 1: $$ \\lim_{Δx\\to0} \\frac{e^{Δx}-1}{Δx} $$\n",
    "        * Therefore, when we substitute $a=e$ back into our derivative expression, we get: $$ f'(x) = e^x \\cdot 1 = e^x $$\n",
    "      * This result shows that the rate of change of the function $e^x$ at any point is simply the value of the function itself at that point. This isn't a coincidence; it's the very reason why $e$ is so fundamental to calculus and the modeling of natural growth and decay processes.\n",
    "  * Trigonometric Functions (Sine and Cosine)\n",
    "    * ![Derivative - Sin and Cos ](images/derivative_sin_cos.png)\n",
    "    * The trigonometric functions sine and cosine have an interesting relationship when differentiated. They follow a cyclical pattern:\n",
    "      * The derivative of $\\sin(x)$ is $\\cos(x)$.\n",
    "      * The derivative of $\\cos(x)$ is $-\\sin(x)$.\n",
    "      * The derivative of $-\\sin(x)$ is $-\\cos(x)$.\n",
    "      * The derivative of $-\\cos(x)$ is $\\sin(x)$.\n",
    "    * After four differentiations, the function returns to its original form. This self-similarity is a hint that these functions are deeply related to the exponential function, although the connection is not immediately obvious.\n",
    "  * Ultimately, these examples demonstrate that even with complex functions, the core concept of differentiation remains the same: finding the \"rise over run\" at every point on the curve.\n",
    "\n",
    "\n"
   ]
  },
  {
   "cell_type": "markdown",
   "id": "71ef9bb8",
   "metadata": {},
   "source": [
    "## A3. The Product Rule of Differentiation"
   ]
  },
  {
   "cell_type": "markdown",
   "id": "f4805534",
   "metadata": {},
   "source": [
    "* The product rule is a shortcut for finding the derivative of a function that is the product of two separate functions, $A(x)=f(x)g(x)$. Instead of using the tedious limit definition, we can visualize the rule by thinking about the change in area of a rectangle with sides $f(x)$ and $g(x)$.\n",
    "* ![Product Rule](images/product_rule.png)\n",
    "* When we increase $x$ by a small amount $Δx$, the area of the rectangle changes. The increase in area, $ΔA$, consists of three parts:\n",
    "  * A vertical strip with area $f(x)(g(x+Δx)-g(x))$.\n",
    "  * A horizontal strip with area $g(x)(f(x+Δx)-f(x))$\n",
    "  * A small corner rectangle with area $(f(x+Δx)-f(x))(g(x+Δx)-g(x))$ \n",
    "* So, the whole $ΔA$ will be: $$ΔA = f(x)(g(x+Δx)-g(x)) +$$ $$g(x)(f(x+Δx)-f(x)) +$$ $$(f(x+Δx)-f(x))(g(x+Δx)-g(x))$$\n",
    "* As $Δx$ approaches zero, the area of the smallest corner rectangle $(f(x+Δx)-f(x))(g(x+Δx)-g(x))$ becomes negligible compared to the other two parts and can be ignored in the limit. \n",
    "  $$ \\lim_{Δx\\to0} (ΔA(x)) = \\lim_{Δx\\to0} ( f(x)(g(x+Δx)-g(x)) + g(x)(f(x+Δx)-f(x)) ) $$\n",
    "  $$ = \\lim_{Δx\\to0} (\\frac{ΔA(x)}{Δx}) = \\lim_{Δx\\to0} ( \\frac{f(x)(g(x+Δx)-g(x)) + g(x)(f(x+Δx)-f(x))}{Δx} ) $$\n",
    "  $$ = \\lim_{Δx\\to0} (\\frac{ΔA(x)}{Δx}) = \\lim_{Δx\\to0} ( \\frac{f(x)(g(x+Δx)-g(x))}{Δx}+ \\frac{g(x)(f(x+Δx)-f(x))}{Δx} ) $$\n",
    "  $$ = \\lim_{Δx\\to0} (\\frac{ΔA(x)}{Δx}) = \\lim_{Δx\\to0} ( f(x)\\frac{(g(x+Δx)-g(x))}{Δx}+ g(x)\\frac{(f(x+Δx)-f(x))}{Δx} ) $$\n",
    "  $$ = \\lim_{Δx\\to0} (\\frac{ΔA(x)}{Δx}) = \\lim_{Δx\\to0} ( f(x)g'(x)+ g(x)f'(x) ) $$\n",
    "  $$ = A'(x) = f(x)g'(x)+ g(x)f'(x) $$\n",
    "* Based on this intuition, we can derive the formal product rule. It states that the derivative of a product of two functions, $f(x)g(x)$, is the sum of two terms: the first function times the derivative of the second, plus the second function times the derivative of the first.\n",
    "  $$ \\text{{Product Rule =  }}$$\n",
    "  $$ \\text{if } A(x) = f(x)g(x)$$\n",
    "  $$ \\text{then } A'(x) = f(x)g'(x)+g(x)f'(x)$$\n",
    "* This rule is a powerful tool in calculus and can be added to our toolbox alongside the Sum Rule and the Power Rule. It simplifies the process of differentiating complex functions that are the product of simpler ones.\n",
    "* Example: \n",
    "  * To differentiate $A(x)=xe^x\\cos(x)$, we apply the product rule for three functions from the previous question.\n",
    "  * Let $f(x) = x$,$g(x)=e^x$, and $h(x)=\\cos(x)$.\n",
    "    * $f'(x) = 1$\n",
    "    * $g'(x) = e^x$\n",
    "    * $h'(x) = -\\sin(x)$\n",
    "  * Applying the three-function product rule $A'(x) = f'(x)g(x)h(x) + f(x)g'(x)h(x) + f(x)g(x)h'(x)$:\n",
    "    $$ f'(x)g(x)h(x) = 1e^x\\cos(x) = e^x\\cos(x)$$\n",
    "    $$ f(x)g'(x)h(x) = xe^x\\cos(x) $$\n",
    "    $$ f(x)g(x)h'(x) = xe^x-\\sin(x)$$\n",
    "    $$ A'(x) = e^x\\cos(x) + xe^x\\cos(x) + xe^x-\\sin(x)$$\n",
    "    $$ A'(x) = e^x[\\cos(x) + x\\cos(x) - x\\sin(x)]$$\n",
    "    $$ A'(x) = e^x[(1+x)\\cos(x) - x\\sin(x)]$$"
   ]
  },
  {
   "cell_type": "markdown",
   "id": "5c009bca",
   "metadata": {},
   "source": [
    "## A4. The Chain Rule of Differentiation"
   ]
  },
  {
   "cell_type": "markdown",
   "id": "6db15338",
   "metadata": {},
   "source": [
    "* The Chain Rule is the essential tool for differentiating composite functions, where one function is nested inside another (e.g., $h(p(m))$). This rule is the fourth and final tool needed to tackle complex differentiation problems.\n",
    "  1. Conceptualizing the chain\n",
    "    * A composite function relates an ultimate output to a final input through a chain of intermediate variables. This structure is common in science and engineering.\n",
    "    * Example: Relating Happiness ($h$) to Money ($m$) via Pizza ($p$).\n",
    "      * $h$ is a function of $p$.\n",
    "      * $p$ is a function of $m$.\n",
    "      * Goal: Find the rate of change of happiness with respect to money, $\\frac{dh}{dm}$.\n",
    "    * Example functions:\n",
    "      * $h(p)=-\\frac{1}{3}p^2+p+\\frac{1}{5}$\n",
    "      * $p(m)=e^m-1$\n",
    "    * ![Chain rule](images/chain_rule.png)\n",
    "  2. The Chain Rule formula\n",
    "   * The Chain Rule provides an elegant approach by multiplying the derivatives of the successive functions. \n",
    "   * The derivative of the composite function is the product of the derivative of the outer function with respect to the intermediate variable, and the derivative of the intermediate variable with respect to the innermost variable. \n",
    "   * The formula is intuitively represented as a chain of derivative relationships:\n",
    "   $$ \\frac{dh}{dm}=\\frac{dh}{dp}\\frac{dp}{dm} $$\n",
    "  3. Application example\n",
    "   * Step 1: Differentiate the individual functions.\n",
    "     * $h(p)=-\\frac{1}{3}p^2+p+\\frac{1}{5} \\text{ → } \\frac{dh}{dp}=1-\\frac{2}{3}p$\n",
    "     * $p(m)=e^m-1 \\text{ → } \\frac{dp}{dm} =e^m$\n",
    "   * Step 2: Apply the Chain Rule and eliminate the intermediate variable.\n",
    "     * $\\frac{dh}{dm} = \\frac{dh}{dp}\\frac{dp}{dm} = (1-\\frac{2}{3}p) \\cdot e^m  $\n",
    "     * By substituting $p = e^m - 1$ back into the expression, we ensure the final derivative is only a function of $m$.\n",
    "     $$\\frac{dh}{dm} = \\left(1 - \\frac{2}{3}(e^m - 1)\\right) e^m$$\n",
    "     $$\\frac{dh}{dm} = \\frac{1}{3}e^m (5 - 2e^m)$$\n",
    "* The magic of the Chain Rule is that it works even when direct substitution is impossible, provided we know the derivatives of the individual functions within the chain."
   ]
  },
  {
   "cell_type": "markdown",
   "id": "bd6ce4ef",
   "metadata": {},
   "source": [
    "## A5. Combination of the 4 rules (Sum, Power, Product, and Chain)"
   ]
  },
  {
   "cell_type": "markdown",
   "id": "306aede5",
   "metadata": {},
   "source": [
    "* Applying the Calculus toolbox\n",
    "  * The function to be differentiated is:\n",
    "  $$f(x) = \\frac{\\sin(2x^5 + 3x)}{e^{7x}}$$\n",
    "  * The core strategy is to decompose the scary function into manageable pieces and use the Product Rule as the final step.\n",
    "    1. Preparation: Rewriting as a product\n",
    "      * To avoid the Quotient Rule, we rewrite the fraction as a product using a negative exponent:\n",
    "        $$f(x) = \\underbrace{\\sin(2x^5 + 3x)}_{g(x)} \\cdot \\underbrace{e^{-7x}}_{h(x)}$$\n",
    "      * The derivative will be found by the Product Rule: $f'(x) = g'(x)h(x) + g(x)h'(x)$.\n",
    "    2. Part 1: Differentiating $g(x) = \\sin(2x^5 + 3x)$\n",
    "      * This is a classic Chain Rule scenario, $g(x) = g(u(x))$, where the inner function is $u(x)$.\n",
    "        ![Chain rule 2](images/chain_rule_2.png)\n",
    "      * Applying the Chain Rule: $\\frac{dg}{dx} = \\frac{dg}{du} \\cdot \\frac{du}{dx}$:\n",
    "      $$\\frac{dg}{dx} = \\cos(u) \\cdot (10x^4 + 3)$$\n",
    "      * Substituting $u = 2x^5 + 3x$ back:\n",
    "      $$g'(x) = \\cos(2x^5 + 3x) (10x^4 + 3)$$\n",
    "    3. Part 2: Differentiating $h(x) = e^{-7x}$\n",
    "      * This is also a Chain Rule scenario, $h(x) = h(v(x))$, where the inner function is $v(x)$.\n",
    "        ![Chain rule 3](images/chain_rule_3.png)\n",
    "      * Applying the Chain Rule: $\\frac{dh}{dx} = \\frac{dh}{dv} \\cdot \\frac{dv}{dx}$:\n",
    "      $$\\frac{dh}{dx} = e^v \\cdot (-7)$$\n",
    "      * Substituting $v = -7x$ back:\n",
    "      $$h'(x) = -7e^{-7x}$$\n",
    "    4. Final step: Applying the Product Rule\n",
    "      * Finally, apply the Product Rule: $f'(x) = g'(x)h(x) + g(x)h'(x)$.\n",
    "      $$f'(x) = \\left[\\cos(2x^5 + 3x)(10x^4 + 3)\\right] \\cdot \\left[e^{-7x}\\right] + \\left[\\sin(2x^5 + 3x)\\right] \\cdot \\left[-7e^{-7x}\\right]$$\n",
    "      * The expression can be slightly rearranged by factoring out $e^{-7x}$:\n",
    "      $$f'(x) = e^{-7x} \\left[ (10x^4 + 3)\\cos(2x^5 + 3x) - 7\\sin(2x^5 + 3x) \\right]$$\n",
    "  * This single example utilized all four differentiation rules: Power Rule, Sum Rule, Chain Rule, and Product Rule. As is common in coding, further algebraic simplification (optimization) is often deferred until necessary."
   ]
  },
  {
   "cell_type": "markdown",
   "id": "83a1aec4",
   "metadata": {},
   "source": [
    "# B. Multivariate Calculus"
   ]
  },
  {
   "cell_type": "markdown",
   "id": "64b377d9",
   "metadata": {},
   "source": [
    "## B1. Partial Differentiation"
   ]
  },
  {
   "cell_type": "markdown",
   "id": "6cf0bae4",
   "metadata": {},
   "source": [
    "* Variables, Constants, and Parameters\n",
    "  \n",
    "  In multivariate calculus, understanding the role of each term in a function is crucial for differentiation.\n",
    "  \n",
    "  * Dependent Variable ($y$): A variable whose value depends on the values of others (e.g., speed depends on time).\n",
    "  * Independent Variable ($x$): A variable that is controlled or chosen freely, and on which the dependent variable relies (e.g., time).\n",
    "  * Constants: Values that are fixed in the context of the problem (e.g., $\\pi$).\n",
    "  * Parameters: Variables that are considered constants during a standard differentiation but are often varied by an engineer or designer to explore a family of similar functions (e.g., car mass or drag coefficient in a specific context).\n",
    "  \n",
    "  Key Takeaway: What is a constant or a variable is context-dependent. In calculus, you can differentiate any term with respect to any other, provided the context makes sense.\n",
    "\n",
    "* Introduction to Partial Differentiation\n",
    "  \n",
    "  Partial differentiation is the method of applying the familiar rules of single-variable calculus to functions of multiple variables.\n",
    "\n",
    "  * The core rule is:\n",
    "\n",
    "    When differentiating a function with respect to a specific variable, treat all other variables as constants.\n",
    "\n",
    "  * The Partial Derivative Symbol\n",
    "\n",
    "    We use the curly symbol, $\\partial$ (read as \"partial\"), instead of the standard $d$, to signify that the function being differentiated has more than one variable.For a function $f(x, y, z)$, the partial derivative with respect to $x$ is written as $\\frac{\\partial f}{\\partial x}$.\n",
    "\n",
    "* Example: Mass of a Can ($m$)\n",
    "  \n",
    "  The mass of a metal can is a function of its design parameters: radius ($r$), height ($h$), wall thickness ($t$), and density ($\\rho$).\n",
    "\n",
    "  ![Mass Function](images/mass_function.png)\n",
    "\n",
    "  The mass function is:\n",
    "  $$m(r, h, t, \\rho) = (2\\pi r^2 t \\rho) + (2\\pi r h t \\rho)$$\n",
    "\n",
    "  * Partial Derivative with respect to Height ($h$)\n",
    "    \n",
    "    When calculating $\\frac{\\partial m}{\\partial h}$, we treat $r, t,$ and $\\rho$ as constants.\n",
    "    $$\\frac{\\partial m}{\\partial h} = \\frac{\\partial}{\\partial h} [2\\pi r^2 t \\rho] + \\frac{\\partial}{\\partial h} [2\\pi r h t \\rho]$$\n",
    "    * The first term ($2\\pi r^2 t \\rho$) does not contain $h$, so its derivative is 0.\n",
    "    * The second term ($2\\pi r t \\rho$ is the constant multiplier of $h$), so its derivative is $2\\pi r t \\rho$.\n",
    "    $$\\frac{\\partial m}{\\partial h} = 0 + 2\\pi r t \\rho$$\n",
    "    $$\\frac{\\partial m}{\\partial h} = 2\\pi r t \\rho$$\n",
    "\n",
    "    The result no longer contains $h$, as mass varies linearly with height (all else being equal).\n",
    "\n",
    "  * Partial Derivative with respect to Radius ($r$)\n",
    "  \n",
    "    When calculating $\\frac{\\partial m}{\\partial r}$, we treat $h, t,$ and $\\rho$ as constants.\n",
    "    $$\\frac{\\partial m}{\\partial r} = \\frac{\\partial}{\\partial r} [2\\pi r^2 t \\rho] + \\frac{\\partial}{\\partial r} [2\\pi r h t \\rho]$$\n",
    "    * For the first term, $\\frac{\\partial}{\\partial r} [2\\pi t \\rho \\cdot r^2] = 2\\pi t \\rho \\cdot (2r) = 4\\pi r t \\rho$.\n",
    "    * For the second term, $\\frac{\\partial}{\\partial r} [2\\pi h t \\rho \\cdot r] = 2\\pi h t \\rho$.\n",
    "    $$\\frac{\\partial m}{\\partial r} = 4\\pi r t \\rho + 2\\pi h t \\rho$$\n",
    "\n",
    "  * Partial Derivative with respect to Thickness ($t$)\n",
    "    $$\\frac{\\partial m}{\\partial t} = \\frac{\\partial}{\\partial t} [2\\pi r^2 \\rho \\cdot t] + \\frac{\\partial}{\\partial t} [2\\pi r h \\rho \\cdot t]$$\n",
    "    $$\\frac{\\partial m}{\\partial t} = 2\\pi r^2 \\rho + 2\\pi r h \\rho$$\n",
    "\n",
    "  * Partial Derivative with respect to Density ($\\rho$)\n",
    "    $$\\frac{\\partial m}{\\partial \\rho} = \\frac{\\partial}{\\partial \\rho} [2\\pi r^2 t \\cdot \\rho] + \\frac{\\partial}{\\partial \\rho} [2\\pi r h t \\cdot \\rho]$$\n",
    "    $$\\frac{\\partial m}{\\partial \\rho} = 2\\pi r^2 t + 2\\pi r h t$$"
   ]
  },
  {
   "cell_type": "code",
   "execution_count": null,
   "id": "d6debc01",
   "metadata": {},
   "outputs": [],
   "source": []
  },
  {
   "cell_type": "markdown",
   "id": "f2f607b3",
   "metadata": {},
   "source": []
  }
 ],
 "metadata": {
  "kernelspec": {
   "display_name": "venv",
   "language": "python",
   "name": "python3"
  },
  "language_info": {
   "codemirror_mode": {
    "name": "ipython",
    "version": 3
   },
   "file_extension": ".py",
   "mimetype": "text/x-python",
   "name": "python",
   "nbconvert_exporter": "python",
   "pygments_lexer": "ipython3",
   "version": "3.12.11"
  }
 },
 "nbformat": 4,
 "nbformat_minor": 5
}
